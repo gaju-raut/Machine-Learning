{
 "cells": [
  {
   "cell_type": "code",
   "execution_count": null,
   "id": "cdccc626-b9f4-4cba-83e2-414e77056aa7",
   "metadata": {},
   "outputs": [],
   "source": [
    "#>>>>>>>>>>Machine Learning Project>>>>>>>>>>"
   ]
  },
  {
   "cell_type": "code",
   "execution_count": 1,
   "id": "c81c0d67-607a-47a2-b000-80d4412d9352",
   "metadata": {},
   "outputs": [],
   "source": [
    "#Importing neccesary Libaries\n",
    "import pandas as pd\n",
    "import numpy as np\n",
    "import seaborn as sns"
   ]
  },
  {
   "cell_type": "code",
   "execution_count": 2,
   "id": "6a7c9a0b-0e8c-4f2b-9ef9-d5f3fa1c8bb7",
   "metadata": {},
   "outputs": [
    {
     "data": {
      "text/html": [
       "<div>\n",
       "<style scoped>\n",
       "    .dataframe tbody tr th:only-of-type {\n",
       "        vertical-align: middle;\n",
       "    }\n",
       "\n",
       "    .dataframe tbody tr th {\n",
       "        vertical-align: top;\n",
       "    }\n",
       "\n",
       "    .dataframe thead th {\n",
       "        text-align: right;\n",
       "    }\n",
       "</style>\n",
       "<table border=\"1\" class=\"dataframe\">\n",
       "  <thead>\n",
       "    <tr style=\"text-align: right;\">\n",
       "      <th></th>\n",
       "      <th>Tier 1</th>\n",
       "      <th>Tier 2</th>\n",
       "      <th>Tier 3</th>\n",
       "    </tr>\n",
       "  </thead>\n",
       "  <tbody>\n",
       "    <tr>\n",
       "      <th>0</th>\n",
       "      <td>IIT Bombay</td>\n",
       "      <td>IIIT Bangalore</td>\n",
       "      <td>Ramaiah Institute of Technology, Bengaluru</td>\n",
       "    </tr>\n",
       "    <tr>\n",
       "      <th>1</th>\n",
       "      <td>IIT Delhi</td>\n",
       "      <td>IIIT Delhi</td>\n",
       "      <td>TIET/Thapar University</td>\n",
       "    </tr>\n",
       "    <tr>\n",
       "      <th>2</th>\n",
       "      <td>IIT Kharagpur</td>\n",
       "      <td>IGDTUW</td>\n",
       "      <td>Manipal Main Campus</td>\n",
       "    </tr>\n",
       "    <tr>\n",
       "      <th>3</th>\n",
       "      <td>IIT Madras</td>\n",
       "      <td>NIT Calicut</td>\n",
       "      <td>VIT Vellore</td>\n",
       "    </tr>\n",
       "    <tr>\n",
       "      <th>4</th>\n",
       "      <td>IIT Kanpur</td>\n",
       "      <td>IIITM Gwalior</td>\n",
       "      <td>SRM Main Campus</td>\n",
       "    </tr>\n",
       "  </tbody>\n",
       "</table>\n",
       "</div>"
      ],
      "text/plain": [
       "          Tier 1          Tier 2                                      Tier 3\n",
       "0     IIT Bombay  IIIT Bangalore  Ramaiah Institute of Technology, Bengaluru\n",
       "1      IIT Delhi      IIIT Delhi                      TIET/Thapar University\n",
       "2  IIT Kharagpur          IGDTUW                         Manipal Main Campus\n",
       "3     IIT Madras     NIT Calicut                                 VIT Vellore\n",
       "4     IIT Kanpur   IIITM Gwalior                             SRM Main Campus"
      ]
     },
     "execution_count": 2,
     "metadata": {},
     "output_type": "execute_result"
    }
   ],
   "source": [
    "Colleges = pd.read_csv(\"C:\\\\Users\\\\prajw\\\\OneDrive\\\\Desktop\\\\datafor_ml\\\\Colleges.csv\")\n",
    "Colleges.head()"
   ]
  },
  {
   "cell_type": "code",
   "execution_count": 12,
   "id": "1d662bc6-30bf-484d-9d96-39089c604a02",
   "metadata": {},
   "outputs": [
    {
     "data": {
      "text/plain": [
       "Tier 1    0\n",
       "Tier 2    0\n",
       "Tier 3    0\n",
       "dtype: int64"
      ]
     },
     "execution_count": 12,
     "metadata": {},
     "output_type": "execute_result"
    }
   ],
   "source": [
    "Colleges.isnull().sum() # identifying null values"
   ]
  },
  {
   "cell_type": "code",
   "execution_count": null,
   "id": "f5f6bcd3-feec-4e5d-a726-0ffad317bb2d",
   "metadata": {},
   "outputs": [],
   "source": [
    "#handling null values"
   ]
  },
  {
   "cell_type": "code",
   "execution_count": 4,
   "id": "e0e9a257-07b6-4482-9d95-682eea90b6fa",
   "metadata": {},
   "outputs": [
    {
     "data": {
      "text/html": [
       "<div>\n",
       "<style scoped>\n",
       "    .dataframe tbody tr th:only-of-type {\n",
       "        vertical-align: middle;\n",
       "    }\n",
       "\n",
       "    .dataframe tbody tr th {\n",
       "        vertical-align: top;\n",
       "    }\n",
       "\n",
       "    .dataframe thead th {\n",
       "        text-align: right;\n",
       "    }\n",
       "</style>\n",
       "<table border=\"1\" class=\"dataframe\">\n",
       "  <thead>\n",
       "    <tr style=\"text-align: right;\">\n",
       "      <th></th>\n",
       "      <th>Tier 1</th>\n",
       "      <th>Tier 2</th>\n",
       "      <th>Tier 3</th>\n",
       "    </tr>\n",
       "  </thead>\n",
       "  <tbody>\n",
       "    <tr>\n",
       "      <th>0</th>\n",
       "      <td>IIT Bombay</td>\n",
       "      <td>IIIT Bangalore</td>\n",
       "      <td>Ramaiah Institute of Technology, Bengaluru</td>\n",
       "    </tr>\n",
       "    <tr>\n",
       "      <th>1</th>\n",
       "      <td>IIT Delhi</td>\n",
       "      <td>IIIT Delhi</td>\n",
       "      <td>TIET/Thapar University</td>\n",
       "    </tr>\n",
       "    <tr>\n",
       "      <th>2</th>\n",
       "      <td>IIT Kharagpur</td>\n",
       "      <td>IGDTUW</td>\n",
       "      <td>Manipal Main Campus</td>\n",
       "    </tr>\n",
       "    <tr>\n",
       "      <th>3</th>\n",
       "      <td>IIT Madras</td>\n",
       "      <td>NIT Calicut</td>\n",
       "      <td>VIT Vellore</td>\n",
       "    </tr>\n",
       "    <tr>\n",
       "      <th>4</th>\n",
       "      <td>IIT Kanpur</td>\n",
       "      <td>IIITM Gwalior</td>\n",
       "      <td>SRM Main Campus</td>\n",
       "    </tr>\n",
       "    <tr>\n",
       "      <th>5</th>\n",
       "      <td>IIT Roorkee</td>\n",
       "      <td>IIIT Lucknow</td>\n",
       "      <td>KIIT, Bhubaneswar</td>\n",
       "    </tr>\n",
       "    <tr>\n",
       "      <th>6</th>\n",
       "      <td>IIT Guwahati</td>\n",
       "      <td>MNNIT Allahabad</td>\n",
       "      <td>Amity University</td>\n",
       "    </tr>\n",
       "    <tr>\n",
       "      <th>7</th>\n",
       "      <td>IIIT Hyderabad</td>\n",
       "      <td>Punjab Engineering College</td>\n",
       "      <td>BMS College, Bangalore</td>\n",
       "    </tr>\n",
       "    <tr>\n",
       "      <th>8</th>\n",
       "      <td>BITS Pilani (Pilani Campus)</td>\n",
       "      <td>DAIICT</td>\n",
       "      <td>PES University, Bangalore</td>\n",
       "    </tr>\n",
       "    <tr>\n",
       "      <th>9</th>\n",
       "      <td>IIT Indore</td>\n",
       "      <td>MNIT Jaipur</td>\n",
       "      <td>USIT, Delhi</td>\n",
       "    </tr>\n",
       "    <tr>\n",
       "      <th>10</th>\n",
       "      <td>IIT Ropar</td>\n",
       "      <td>NIT Durgapur</td>\n",
       "      <td>MAIT, Delhi</td>\n",
       "    </tr>\n",
       "    <tr>\n",
       "      <th>11</th>\n",
       "      <td>IIT BHU (Varanasi)</td>\n",
       "      <td>VNIT Nagpur</td>\n",
       "      <td>MSIT, Delhi</td>\n",
       "    </tr>\n",
       "    <tr>\n",
       "      <th>12</th>\n",
       "      <td>IIT ISM Dhanbad</td>\n",
       "      <td>LNMIIT</td>\n",
       "      <td>Dayanand College of Engineering, Bangalore</td>\n",
       "    </tr>\n",
       "    <tr>\n",
       "      <th>13</th>\n",
       "      <td>DTU</td>\n",
       "      <td>BIT Mesra</td>\n",
       "      <td>Heritage Institute of Technology, Kolkata</td>\n",
       "    </tr>\n",
       "    <tr>\n",
       "      <th>14</th>\n",
       "      <td>NSUT Delhi (NSIT)</td>\n",
       "      <td>SVNIT Surat</td>\n",
       "      <td>IEM, Kolkata</td>\n",
       "    </tr>\n",
       "    <tr>\n",
       "      <th>15</th>\n",
       "      <td>NIT Tiruchipally (Trichy)</td>\n",
       "      <td>NIT Jalandhar</td>\n",
       "      <td>Techno India, Kolkata</td>\n",
       "    </tr>\n",
       "    <tr>\n",
       "      <th>16</th>\n",
       "      <td>NIT Warangal</td>\n",
       "      <td>NIT Jamshedpur</td>\n",
       "      <td>Jaypee, Noida</td>\n",
       "    </tr>\n",
       "    <tr>\n",
       "      <th>17</th>\n",
       "      <td>NIT Surathkal (Karnataka)</td>\n",
       "      <td>NIT Kurukshetra</td>\n",
       "      <td>Amrita University, Coimbatore</td>\n",
       "    </tr>\n",
       "    <tr>\n",
       "      <th>18</th>\n",
       "      <td>Jadavpur University</td>\n",
       "      <td>NIT Patna</td>\n",
       "      <td>Cummins College of Engineering for Women, Pune</td>\n",
       "    </tr>\n",
       "    <tr>\n",
       "      <th>19</th>\n",
       "      <td>BITS Pilani (Hyderabad Campus)</td>\n",
       "      <td>NIT Raipur</td>\n",
       "      <td>Cummins College of Engineering for Women, Pune</td>\n",
       "    </tr>\n",
       "    <tr>\n",
       "      <th>20</th>\n",
       "      <td>BITS Pilani (Goa Campus)</td>\n",
       "      <td>NIT Bhopal</td>\n",
       "      <td>Cummins College of Engineering for Women, Pune</td>\n",
       "    </tr>\n",
       "    <tr>\n",
       "      <th>21</th>\n",
       "      <td>IIIT Allahabad</td>\n",
       "      <td>NIT Rourkela</td>\n",
       "      <td>Cummins College of Engineering for Women, Pune</td>\n",
       "    </tr>\n",
       "    <tr>\n",
       "      <th>22</th>\n",
       "      <td>IIIT Allahabad</td>\n",
       "      <td>NIT Silchar</td>\n",
       "      <td>Cummins College of Engineering for Women, Pune</td>\n",
       "    </tr>\n",
       "    <tr>\n",
       "      <th>23</th>\n",
       "      <td>IIIT Allahabad</td>\n",
       "      <td>NIT Sikkim</td>\n",
       "      <td>Cummins College of Engineering for Women, Pune</td>\n",
       "    </tr>\n",
       "    <tr>\n",
       "      <th>24</th>\n",
       "      <td>IIIT Allahabad</td>\n",
       "      <td>IIIT Jabalpur</td>\n",
       "      <td>Cummins College of Engineering for Women, Pune</td>\n",
       "    </tr>\n",
       "    <tr>\n",
       "      <th>25</th>\n",
       "      <td>IIIT Allahabad</td>\n",
       "      <td>Jalpaiguri Government Engineering College</td>\n",
       "      <td>Cummins College of Engineering for Women, Pune</td>\n",
       "    </tr>\n",
       "    <tr>\n",
       "      <th>26</th>\n",
       "      <td>IIIT Allahabad</td>\n",
       "      <td>IIEST/BESU Shibpur</td>\n",
       "      <td>Cummins College of Engineering for Women, Pune</td>\n",
       "    </tr>\n",
       "    <tr>\n",
       "      <th>27</th>\n",
       "      <td>IIIT Allahabad</td>\n",
       "      <td>R.V. College of Engineering</td>\n",
       "      <td>Cummins College of Engineering for Women, Pune</td>\n",
       "    </tr>\n",
       "  </tbody>\n",
       "</table>\n",
       "</div>"
      ],
      "text/plain": [
       "                            Tier 1                                     Tier 2  \\\n",
       "0                       IIT Bombay                             IIIT Bangalore   \n",
       "1                        IIT Delhi                                 IIIT Delhi   \n",
       "2                    IIT Kharagpur                                     IGDTUW   \n",
       "3                       IIT Madras                                NIT Calicut   \n",
       "4                       IIT Kanpur                              IIITM Gwalior   \n",
       "5                      IIT Roorkee                               IIIT Lucknow   \n",
       "6                     IIT Guwahati                            MNNIT Allahabad   \n",
       "7                   IIIT Hyderabad                 Punjab Engineering College   \n",
       "8      BITS Pilani (Pilani Campus)                                     DAIICT   \n",
       "9                       IIT Indore                                MNIT Jaipur   \n",
       "10                       IIT Ropar                               NIT Durgapur   \n",
       "11              IIT BHU (Varanasi)                                VNIT Nagpur   \n",
       "12                 IIT ISM Dhanbad                                     LNMIIT   \n",
       "13                             DTU                                  BIT Mesra   \n",
       "14               NSUT Delhi (NSIT)                                SVNIT Surat   \n",
       "15       NIT Tiruchipally (Trichy)                              NIT Jalandhar   \n",
       "16                    NIT Warangal                             NIT Jamshedpur   \n",
       "17       NIT Surathkal (Karnataka)                            NIT Kurukshetra   \n",
       "18             Jadavpur University                                  NIT Patna   \n",
       "19  BITS Pilani (Hyderabad Campus)                                 NIT Raipur   \n",
       "20        BITS Pilani (Goa Campus)                                 NIT Bhopal   \n",
       "21                  IIIT Allahabad                               NIT Rourkela   \n",
       "22                  IIIT Allahabad                                NIT Silchar   \n",
       "23                  IIIT Allahabad                                 NIT Sikkim   \n",
       "24                  IIIT Allahabad                              IIIT Jabalpur   \n",
       "25                  IIIT Allahabad  Jalpaiguri Government Engineering College   \n",
       "26                  IIIT Allahabad                         IIEST/BESU Shibpur   \n",
       "27                  IIIT Allahabad                R.V. College of Engineering   \n",
       "\n",
       "                                            Tier 3  \n",
       "0       Ramaiah Institute of Technology, Bengaluru  \n",
       "1                           TIET/Thapar University  \n",
       "2                              Manipal Main Campus  \n",
       "3                                      VIT Vellore  \n",
       "4                                  SRM Main Campus  \n",
       "5                                KIIT, Bhubaneswar  \n",
       "6                                 Amity University  \n",
       "7                           BMS College, Bangalore  \n",
       "8                        PES University, Bangalore  \n",
       "9                                      USIT, Delhi  \n",
       "10                                     MAIT, Delhi  \n",
       "11                                     MSIT, Delhi  \n",
       "12      Dayanand College of Engineering, Bangalore  \n",
       "13       Heritage Institute of Technology, Kolkata  \n",
       "14                                    IEM, Kolkata  \n",
       "15                           Techno India, Kolkata  \n",
       "16                                   Jaypee, Noida  \n",
       "17                   Amrita University, Coimbatore  \n",
       "18  Cummins College of Engineering for Women, Pune  \n",
       "19  Cummins College of Engineering for Women, Pune  \n",
       "20  Cummins College of Engineering for Women, Pune  \n",
       "21  Cummins College of Engineering for Women, Pune  \n",
       "22  Cummins College of Engineering for Women, Pune  \n",
       "23  Cummins College of Engineering for Women, Pune  \n",
       "24  Cummins College of Engineering for Women, Pune  \n",
       "25  Cummins College of Engineering for Women, Pune  \n",
       "26  Cummins College of Engineering for Women, Pune  \n",
       "27  Cummins College of Engineering for Women, Pune  "
      ]
     },
     "execution_count": 4,
     "metadata": {},
     "output_type": "execute_result"
    }
   ],
   "source": [
    "Colleges = Colleges.ffill()\n",
    "Colleges"
   ]
  },
  {
   "cell_type": "code",
   "execution_count": 5,
   "id": "09406d56-8287-45dc-8bd7-28d8cb6de49e",
   "metadata": {},
   "outputs": [
    {
     "data": {
      "text/plain": [
       "Tier 1    0\n",
       "Tier 2    0\n",
       "Tier 3    0\n",
       "dtype: int64"
      ]
     },
     "execution_count": 5,
     "metadata": {},
     "output_type": "execute_result"
    }
   ],
   "source": [
    "Colleges.isnull().sum()   #again checking for null values"
   ]
  },
  {
   "cell_type": "code",
   "execution_count": 6,
   "id": "673ab02e-ad25-4fb6-a551-f5e6e53d58cd",
   "metadata": {},
   "outputs": [
    {
     "data": {
      "text/html": [
       "<div>\n",
       "<style scoped>\n",
       "    .dataframe tbody tr th:only-of-type {\n",
       "        vertical-align: middle;\n",
       "    }\n",
       "\n",
       "    .dataframe tbody tr th {\n",
       "        vertical-align: top;\n",
       "    }\n",
       "\n",
       "    .dataframe thead th {\n",
       "        text-align: right;\n",
       "    }\n",
       "</style>\n",
       "<table border=\"1\" class=\"dataframe\">\n",
       "  <thead>\n",
       "    <tr style=\"text-align: right;\">\n",
       "      <th></th>\n",
       "      <th>College</th>\n",
       "      <th>City</th>\n",
       "      <th>Role</th>\n",
       "      <th>Previous CTC</th>\n",
       "      <th>Previous job change</th>\n",
       "      <th>Graduation Marks</th>\n",
       "      <th>EXP (Month)</th>\n",
       "      <th>CTC</th>\n",
       "    </tr>\n",
       "  </thead>\n",
       "  <tbody>\n",
       "    <tr>\n",
       "      <th>0</th>\n",
       "      <td>SVNIT Surat</td>\n",
       "      <td>Asansol</td>\n",
       "      <td>Manager</td>\n",
       "      <td>55523.0</td>\n",
       "      <td>3</td>\n",
       "      <td>66</td>\n",
       "      <td>19</td>\n",
       "      <td>71406.58</td>\n",
       "    </tr>\n",
       "    <tr>\n",
       "      <th>1</th>\n",
       "      <td>NIT Bhopal</td>\n",
       "      <td>Ajmer</td>\n",
       "      <td>Executive</td>\n",
       "      <td>57081.0</td>\n",
       "      <td>1</td>\n",
       "      <td>84</td>\n",
       "      <td>18</td>\n",
       "      <td>68005.87</td>\n",
       "    </tr>\n",
       "    <tr>\n",
       "      <th>2</th>\n",
       "      <td>IEM, Kolkata</td>\n",
       "      <td>Rajpur Sonarpur</td>\n",
       "      <td>Executive</td>\n",
       "      <td>60347.0</td>\n",
       "      <td>2</td>\n",
       "      <td>52</td>\n",
       "      <td>28</td>\n",
       "      <td>76764.02</td>\n",
       "    </tr>\n",
       "    <tr>\n",
       "      <th>3</th>\n",
       "      <td>KIIT, Bhubaneswar</td>\n",
       "      <td>Ajmer</td>\n",
       "      <td>Executive</td>\n",
       "      <td>49010.0</td>\n",
       "      <td>2</td>\n",
       "      <td>81</td>\n",
       "      <td>33</td>\n",
       "      <td>82092.39</td>\n",
       "    </tr>\n",
       "    <tr>\n",
       "      <th>4</th>\n",
       "      <td>DTU</td>\n",
       "      <td>Durgapur</td>\n",
       "      <td>Executive</td>\n",
       "      <td>57879.0</td>\n",
       "      <td>4</td>\n",
       "      <td>74</td>\n",
       "      <td>32</td>\n",
       "      <td>73878.10</td>\n",
       "    </tr>\n",
       "  </tbody>\n",
       "</table>\n",
       "</div>"
      ],
      "text/plain": [
       "             College             City       Role  Previous CTC  \\\n",
       "0        SVNIT Surat          Asansol    Manager       55523.0   \n",
       "1         NIT Bhopal            Ajmer  Executive       57081.0   \n",
       "2       IEM, Kolkata  Rajpur Sonarpur  Executive       60347.0   \n",
       "3  KIIT, Bhubaneswar            Ajmer  Executive       49010.0   \n",
       "4                DTU         Durgapur  Executive       57879.0   \n",
       "\n",
       "   Previous job change  Graduation Marks  EXP (Month)       CTC  \n",
       "0                    3                66           19  71406.58  \n",
       "1                    1                84           18  68005.87  \n",
       "2                    2                52           28  76764.02  \n",
       "3                    2                81           33  82092.39  \n",
       "4                    4                74           32  73878.10  "
      ]
     },
     "execution_count": 6,
     "metadata": {},
     "output_type": "execute_result"
    }
   ],
   "source": [
    "df =  pd.read_csv(\"C:\\\\Users\\\\prajw\\\\OneDrive\\\\Desktop\\\\ml project\\\\ML case Study.csv\")\n",
    "df.head()"
   ]
  },
  {
   "cell_type": "code",
   "execution_count": 7,
   "id": "87644b21-676a-466b-a8fd-9fb915705fde",
   "metadata": {},
   "outputs": [
    {
     "data": {
      "text/plain": [
       "College                0\n",
       "City                   0\n",
       "Role                   0\n",
       "Previous CTC           0\n",
       "Previous job change    0\n",
       "Graduation Marks       0\n",
       "EXP (Month)            0\n",
       "CTC                    0\n",
       "dtype: int64"
      ]
     },
     "execution_count": 7,
     "metadata": {},
     "output_type": "execute_result"
    }
   ],
   "source": [
    "df.isnull().sum()  \n",
    "#checking for null "
   ]
  },
  {
   "cell_type": "code",
   "execution_count": 9,
   "id": "3c068b33-35e1-4f30-b848-7da8b56e9196",
   "metadata": {},
   "outputs": [],
   "source": [
    "Tier1 = Colleges[\"Tier 1\"].tolist()\n",
    "Tier2 = Colleges[\"Tier 2\"].tolist()\n",
    "Tier3 = Colleges[\"Tier 3\"].tolist()"
   ]
  },
  {
   "cell_type": "code",
   "execution_count": 10,
   "id": "5e408544-a070-45eb-b4db-479f57c35ad6",
   "metadata": {},
   "outputs": [
    {
     "data": {
      "text/plain": [
       "['IIT Bombay',\n",
       " 'IIT Delhi',\n",
       " 'IIT Kharagpur',\n",
       " 'IIT Madras',\n",
       " 'IIT Kanpur',\n",
       " 'IIT Roorkee',\n",
       " 'IIT Guwahati',\n",
       " 'IIIT Hyderabad',\n",
       " 'BITS Pilani (Pilani Campus)',\n",
       " 'IIT Indore',\n",
       " 'IIT Ropar',\n",
       " 'IIT BHU (Varanasi)',\n",
       " 'IIT ISM Dhanbad',\n",
       " 'DTU',\n",
       " 'NSUT Delhi (NSIT)',\n",
       " 'NIT Tiruchipally (Trichy)',\n",
       " 'NIT Warangal',\n",
       " 'NIT Surathkal (Karnataka)',\n",
       " 'Jadavpur University',\n",
       " 'BITS Pilani (Hyderabad Campus)',\n",
       " 'BITS Pilani (Goa Campus)',\n",
       " 'IIIT Allahabad',\n",
       " 'IIIT Allahabad',\n",
       " 'IIIT Allahabad',\n",
       " 'IIIT Allahabad',\n",
       " 'IIIT Allahabad',\n",
       " 'IIIT Allahabad',\n",
       " 'IIIT Allahabad']"
      ]
     },
     "execution_count": 10,
     "metadata": {},
     "output_type": "execute_result"
    }
   ],
   "source": [
    "Tier1"
   ]
  },
  {
   "cell_type": "code",
   "execution_count": 11,
   "id": "cbe7f09f-a74e-428a-aaa1-d11ad8d70dd6",
   "metadata": {},
   "outputs": [],
   "source": [
    "for item in df.College:\n",
    "    if item in Tier1:\n",
    "        df['College'].replace(item,1,inplace = True)\n",
    "    elif item in Tier2:\n",
    "        df['College'].replace(item,2,inplace = True)\n",
    "    elif item in Tier3:\n",
    "        df['College'].replace(item,3,inplace = True)"
   ]
  },
  {
   "cell_type": "code",
   "execution_count": 13,
   "id": "3b655a9c-516d-4895-a624-860c24d7c9e6",
   "metadata": {},
   "outputs": [
    {
     "data": {
      "text/html": [
       "<div>\n",
       "<style scoped>\n",
       "    .dataframe tbody tr th:only-of-type {\n",
       "        vertical-align: middle;\n",
       "    }\n",
       "\n",
       "    .dataframe tbody tr th {\n",
       "        vertical-align: top;\n",
       "    }\n",
       "\n",
       "    .dataframe thead th {\n",
       "        text-align: right;\n",
       "    }\n",
       "</style>\n",
       "<table border=\"1\" class=\"dataframe\">\n",
       "  <thead>\n",
       "    <tr style=\"text-align: right;\">\n",
       "      <th></th>\n",
       "      <th>College</th>\n",
       "      <th>City</th>\n",
       "      <th>Role</th>\n",
       "      <th>Previous CTC</th>\n",
       "      <th>Previous job change</th>\n",
       "      <th>Graduation Marks</th>\n",
       "      <th>EXP (Month)</th>\n",
       "      <th>CTC</th>\n",
       "    </tr>\n",
       "  </thead>\n",
       "  <tbody>\n",
       "    <tr>\n",
       "      <th>0</th>\n",
       "      <td>2</td>\n",
       "      <td>Asansol</td>\n",
       "      <td>Manager</td>\n",
       "      <td>55523.0</td>\n",
       "      <td>3</td>\n",
       "      <td>66</td>\n",
       "      <td>19</td>\n",
       "      <td>71406.58</td>\n",
       "    </tr>\n",
       "    <tr>\n",
       "      <th>1</th>\n",
       "      <td>2</td>\n",
       "      <td>Ajmer</td>\n",
       "      <td>Executive</td>\n",
       "      <td>57081.0</td>\n",
       "      <td>1</td>\n",
       "      <td>84</td>\n",
       "      <td>18</td>\n",
       "      <td>68005.87</td>\n",
       "    </tr>\n",
       "    <tr>\n",
       "      <th>2</th>\n",
       "      <td>3</td>\n",
       "      <td>Rajpur Sonarpur</td>\n",
       "      <td>Executive</td>\n",
       "      <td>60347.0</td>\n",
       "      <td>2</td>\n",
       "      <td>52</td>\n",
       "      <td>28</td>\n",
       "      <td>76764.02</td>\n",
       "    </tr>\n",
       "    <tr>\n",
       "      <th>3</th>\n",
       "      <td>3</td>\n",
       "      <td>Ajmer</td>\n",
       "      <td>Executive</td>\n",
       "      <td>49010.0</td>\n",
       "      <td>2</td>\n",
       "      <td>81</td>\n",
       "      <td>33</td>\n",
       "      <td>82092.39</td>\n",
       "    </tr>\n",
       "    <tr>\n",
       "      <th>4</th>\n",
       "      <td>1</td>\n",
       "      <td>Durgapur</td>\n",
       "      <td>Executive</td>\n",
       "      <td>57879.0</td>\n",
       "      <td>4</td>\n",
       "      <td>74</td>\n",
       "      <td>32</td>\n",
       "      <td>73878.10</td>\n",
       "    </tr>\n",
       "  </tbody>\n",
       "</table>\n",
       "</div>"
      ],
      "text/plain": [
       "   College             City       Role  Previous CTC  Previous job change  \\\n",
       "0        2          Asansol    Manager       55523.0                    3   \n",
       "1        2            Ajmer  Executive       57081.0                    1   \n",
       "2        3  Rajpur Sonarpur  Executive       60347.0                    2   \n",
       "3        3            Ajmer  Executive       49010.0                    2   \n",
       "4        1         Durgapur  Executive       57879.0                    4   \n",
       "\n",
       "   Graduation Marks  EXP (Month)       CTC  \n",
       "0                66           19  71406.58  \n",
       "1                84           18  68005.87  \n",
       "2                52           28  76764.02  \n",
       "3                81           33  82092.39  \n",
       "4                74           32  73878.10  "
      ]
     },
     "execution_count": 13,
     "metadata": {},
     "output_type": "execute_result"
    }
   ],
   "source": [
    "df.head()"
   ]
  },
  {
   "cell_type": "code",
   "execution_count": 14,
   "id": "5d18fdb1-b575-4ebb-8420-d6c6140a1b07",
   "metadata": {},
   "outputs": [
    {
     "data": {
      "text/html": [
       "<div>\n",
       "<style scoped>\n",
       "    .dataframe tbody tr th:only-of-type {\n",
       "        vertical-align: middle;\n",
       "    }\n",
       "\n",
       "    .dataframe tbody tr th {\n",
       "        vertical-align: top;\n",
       "    }\n",
       "\n",
       "    .dataframe thead th {\n",
       "        text-align: right;\n",
       "    }\n",
       "</style>\n",
       "<table border=\"1\" class=\"dataframe\">\n",
       "  <thead>\n",
       "    <tr style=\"text-align: right;\">\n",
       "      <th></th>\n",
       "      <th>Metrio City</th>\n",
       "      <th>non-metro cities</th>\n",
       "    </tr>\n",
       "  </thead>\n",
       "  <tbody>\n",
       "    <tr>\n",
       "      <th>0</th>\n",
       "      <td>Mumbai</td>\n",
       "      <td>Dehradun</td>\n",
       "    </tr>\n",
       "    <tr>\n",
       "      <th>1</th>\n",
       "      <td>Delhi</td>\n",
       "      <td>Durgapur</td>\n",
       "    </tr>\n",
       "    <tr>\n",
       "      <th>2</th>\n",
       "      <td>Kolkata</td>\n",
       "      <td>Asansol</td>\n",
       "    </tr>\n",
       "    <tr>\n",
       "      <th>3</th>\n",
       "      <td>Chennai</td>\n",
       "      <td>Rourkela</td>\n",
       "    </tr>\n",
       "    <tr>\n",
       "      <th>4</th>\n",
       "      <td>Bangalore</td>\n",
       "      <td>Kozhikode</td>\n",
       "    </tr>\n",
       "    <tr>\n",
       "      <th>5</th>\n",
       "      <td>Hyderabad</td>\n",
       "      <td>Rajpur Sonarpur</td>\n",
       "    </tr>\n",
       "    <tr>\n",
       "      <th>6</th>\n",
       "      <td>Ahmedabad</td>\n",
       "      <td>Kolhapur</td>\n",
       "    </tr>\n",
       "    <tr>\n",
       "      <th>7</th>\n",
       "      <td>Pune</td>\n",
       "      <td>Ajmer</td>\n",
       "    </tr>\n",
       "    <tr>\n",
       "      <th>8</th>\n",
       "      <td>Surat</td>\n",
       "      <td>NaN</td>\n",
       "    </tr>\n",
       "  </tbody>\n",
       "</table>\n",
       "</div>"
      ],
      "text/plain": [
       "  Metrio City non-metro cities\n",
       "0      Mumbai         Dehradun\n",
       "1       Delhi         Durgapur\n",
       "2     Kolkata          Asansol\n",
       "3     Chennai         Rourkela\n",
       "4   Bangalore        Kozhikode\n",
       "5   Hyderabad  Rajpur Sonarpur\n",
       "6   Ahmedabad         Kolhapur\n",
       "7        Pune            Ajmer\n",
       "8       Surat              NaN"
      ]
     },
     "execution_count": 14,
     "metadata": {},
     "output_type": "execute_result"
    }
   ],
   "source": [
    "Cities = pd.read_csv(\"C:\\\\Users\\\\prajw\\\\OneDrive\\\\Desktop\\\\ml project\\\\Cities.csv\")\n",
    "Cities"
   ]
  },
  {
   "cell_type": "code",
   "execution_count": 15,
   "id": "7e180523-f550-481a-9142-e95c31e803e6",
   "metadata": {},
   "outputs": [],
   "source": [
    "Metrio = Cities[\"Metrio City\"].tolist()\n",
    "non_Metrio = Cities[\"non-metro cities\"].tolist()"
   ]
  },
  {
   "cell_type": "code",
   "execution_count": 16,
   "id": "399a80d4-0d98-45fe-97b9-79690ffd0806",
   "metadata": {},
   "outputs": [
    {
     "data": {
      "text/plain": [
       "['Mumbai',\n",
       " 'Delhi',\n",
       " 'Kolkata',\n",
       " 'Chennai',\n",
       " 'Bangalore',\n",
       " 'Hyderabad',\n",
       " 'Ahmedabad',\n",
       " 'Pune',\n",
       " 'Surat']"
      ]
     },
     "execution_count": 16,
     "metadata": {},
     "output_type": "execute_result"
    }
   ],
   "source": [
    "Metrio"
   ]
  },
  {
   "cell_type": "code",
   "execution_count": 17,
   "id": "2ec3c1dc-16ba-4a21-b1ff-72900071b19e",
   "metadata": {},
   "outputs": [],
   "source": [
    "for i in df.City:\n",
    "    if i in Metrio:\n",
    "        df['City'].replace(i,1,inplace = True)\n",
    "    elif i in non_Metrio:\n",
    "        df['City'].replace(i,0,inplace = True)\n",
    "        "
   ]
  },
  {
   "cell_type": "code",
   "execution_count": 19,
   "id": "20c54f0c-ad54-4a93-ae17-b49859248762",
   "metadata": {},
   "outputs": [
    {
     "data": {
      "text/html": [
       "<div>\n",
       "<style scoped>\n",
       "    .dataframe tbody tr th:only-of-type {\n",
       "        vertical-align: middle;\n",
       "    }\n",
       "\n",
       "    .dataframe tbody tr th {\n",
       "        vertical-align: top;\n",
       "    }\n",
       "\n",
       "    .dataframe thead th {\n",
       "        text-align: right;\n",
       "    }\n",
       "</style>\n",
       "<table border=\"1\" class=\"dataframe\">\n",
       "  <thead>\n",
       "    <tr style=\"text-align: right;\">\n",
       "      <th></th>\n",
       "      <th>College</th>\n",
       "      <th>City</th>\n",
       "      <th>Role</th>\n",
       "      <th>Previous CTC</th>\n",
       "      <th>Previous job change</th>\n",
       "      <th>Graduation Marks</th>\n",
       "      <th>EXP (Month)</th>\n",
       "      <th>CTC</th>\n",
       "    </tr>\n",
       "  </thead>\n",
       "  <tbody>\n",
       "    <tr>\n",
       "      <th>0</th>\n",
       "      <td>2</td>\n",
       "      <td>0</td>\n",
       "      <td>1</td>\n",
       "      <td>55523.0</td>\n",
       "      <td>3</td>\n",
       "      <td>66</td>\n",
       "      <td>19</td>\n",
       "      <td>71406.58</td>\n",
       "    </tr>\n",
       "    <tr>\n",
       "      <th>1</th>\n",
       "      <td>2</td>\n",
       "      <td>0</td>\n",
       "      <td>0</td>\n",
       "      <td>57081.0</td>\n",
       "      <td>1</td>\n",
       "      <td>84</td>\n",
       "      <td>18</td>\n",
       "      <td>68005.87</td>\n",
       "    </tr>\n",
       "    <tr>\n",
       "      <th>2</th>\n",
       "      <td>3</td>\n",
       "      <td>0</td>\n",
       "      <td>0</td>\n",
       "      <td>60347.0</td>\n",
       "      <td>2</td>\n",
       "      <td>52</td>\n",
       "      <td>28</td>\n",
       "      <td>76764.02</td>\n",
       "    </tr>\n",
       "    <tr>\n",
       "      <th>3</th>\n",
       "      <td>3</td>\n",
       "      <td>0</td>\n",
       "      <td>0</td>\n",
       "      <td>49010.0</td>\n",
       "      <td>2</td>\n",
       "      <td>81</td>\n",
       "      <td>33</td>\n",
       "      <td>82092.39</td>\n",
       "    </tr>\n",
       "    <tr>\n",
       "      <th>4</th>\n",
       "      <td>1</td>\n",
       "      <td>0</td>\n",
       "      <td>0</td>\n",
       "      <td>57879.0</td>\n",
       "      <td>4</td>\n",
       "      <td>74</td>\n",
       "      <td>32</td>\n",
       "      <td>73878.10</td>\n",
       "    </tr>\n",
       "  </tbody>\n",
       "</table>\n",
       "</div>"
      ],
      "text/plain": [
       "   College  City  Role  Previous CTC  Previous job change  Graduation Marks  \\\n",
       "0        2     0     1       55523.0                    3                66   \n",
       "1        2     0     0       57081.0                    1                84   \n",
       "2        3     0     0       60347.0                    2                52   \n",
       "3        3     0     0       49010.0                    2                81   \n",
       "4        1     0     0       57879.0                    4                74   \n",
       "\n",
       "   EXP (Month)       CTC  \n",
       "0           19  71406.58  \n",
       "1           18  68005.87  \n",
       "2           28  76764.02  \n",
       "3           33  82092.39  \n",
       "4           32  73878.10  "
      ]
     },
     "execution_count": 19,
     "metadata": {},
     "output_type": "execute_result"
    }
   ],
   "source": [
    "from sklearn.preprocessing import LabelEncoder\n",
    "LE = LabelEncoder()\n",
    "df.Role = LE.fit_transform(df.Role)\n",
    "df.head()"
   ]
  },
  {
   "cell_type": "code",
   "execution_count": 20,
   "id": "a8e75108-fc7c-4443-bff8-6afe079a2f64",
   "metadata": {},
   "outputs": [
    {
     "data": {
      "text/plain": [
       "(1589, 8)"
      ]
     },
     "execution_count": 20,
     "metadata": {},
     "output_type": "execute_result"
    }
   ],
   "source": [
    "df.shape"
   ]
  },
  {
   "cell_type": "code",
   "execution_count": null,
   "id": "c5970564-dc79-427d-97bb-5f25afb0db69",
   "metadata": {},
   "outputs": [],
   "source": [
    "#TO checking skewd in data performing EDD"
   ]
  },
  {
   "cell_type": "code",
   "execution_count": 22,
   "id": "02a8bcc2-0a2a-4901-8aa7-bb12645232bf",
   "metadata": {},
   "outputs": [
    {
     "data": {
      "text/html": [
       "<div>\n",
       "<style scoped>\n",
       "    .dataframe tbody tr th:only-of-type {\n",
       "        vertical-align: middle;\n",
       "    }\n",
       "\n",
       "    .dataframe tbody tr th {\n",
       "        vertical-align: top;\n",
       "    }\n",
       "\n",
       "    .dataframe thead th {\n",
       "        text-align: right;\n",
       "    }\n",
       "</style>\n",
       "<table border=\"1\" class=\"dataframe\">\n",
       "  <thead>\n",
       "    <tr style=\"text-align: right;\">\n",
       "      <th></th>\n",
       "      <th>College</th>\n",
       "      <th>City</th>\n",
       "      <th>Role</th>\n",
       "      <th>Previous CTC</th>\n",
       "      <th>Previous job change</th>\n",
       "      <th>Graduation Marks</th>\n",
       "      <th>EXP (Month)</th>\n",
       "      <th>CTC</th>\n",
       "    </tr>\n",
       "  </thead>\n",
       "  <tbody>\n",
       "    <tr>\n",
       "      <th>count</th>\n",
       "      <td>1589.000000</td>\n",
       "      <td>1589.000000</td>\n",
       "      <td>1589.000000</td>\n",
       "      <td>1589.000000</td>\n",
       "      <td>1589.000000</td>\n",
       "      <td>1589.000000</td>\n",
       "      <td>1589.000000</td>\n",
       "      <td>1589.000000</td>\n",
       "    </tr>\n",
       "    <tr>\n",
       "      <th>mean</th>\n",
       "      <td>1.975456</td>\n",
       "      <td>0.514160</td>\n",
       "      <td>0.206419</td>\n",
       "      <td>55518.453744</td>\n",
       "      <td>2.528634</td>\n",
       "      <td>59.855255</td>\n",
       "      <td>39.044682</td>\n",
       "      <td>75353.278798</td>\n",
       "    </tr>\n",
       "    <tr>\n",
       "      <th>std</th>\n",
       "      <td>0.838330</td>\n",
       "      <td>0.499957</td>\n",
       "      <td>0.404862</td>\n",
       "      <td>6655.218445</td>\n",
       "      <td>1.123918</td>\n",
       "      <td>14.935139</td>\n",
       "      <td>14.108875</td>\n",
       "      <td>12587.288237</td>\n",
       "    </tr>\n",
       "    <tr>\n",
       "      <th>min</th>\n",
       "      <td>1.000000</td>\n",
       "      <td>0.000000</td>\n",
       "      <td>0.000000</td>\n",
       "      <td>36990.000000</td>\n",
       "      <td>1.000000</td>\n",
       "      <td>35.000000</td>\n",
       "      <td>18.000000</td>\n",
       "      <td>53020.320000</td>\n",
       "    </tr>\n",
       "    <tr>\n",
       "      <th>25%</th>\n",
       "      <td>1.000000</td>\n",
       "      <td>0.000000</td>\n",
       "      <td>0.000000</td>\n",
       "      <td>50518.000000</td>\n",
       "      <td>2.000000</td>\n",
       "      <td>46.000000</td>\n",
       "      <td>26.000000</td>\n",
       "      <td>66902.350000</td>\n",
       "    </tr>\n",
       "    <tr>\n",
       "      <th>50%</th>\n",
       "      <td>2.000000</td>\n",
       "      <td>1.000000</td>\n",
       "      <td>0.000000</td>\n",
       "      <td>55291.000000</td>\n",
       "      <td>3.000000</td>\n",
       "      <td>60.000000</td>\n",
       "      <td>39.000000</td>\n",
       "      <td>73028.670000</td>\n",
       "    </tr>\n",
       "    <tr>\n",
       "      <th>75%</th>\n",
       "      <td>3.000000</td>\n",
       "      <td>1.000000</td>\n",
       "      <td>0.000000</td>\n",
       "      <td>60109.000000</td>\n",
       "      <td>4.000000</td>\n",
       "      <td>73.000000</td>\n",
       "      <td>51.000000</td>\n",
       "      <td>80588.670000</td>\n",
       "    </tr>\n",
       "    <tr>\n",
       "      <th>max</th>\n",
       "      <td>3.000000</td>\n",
       "      <td>1.000000</td>\n",
       "      <td>1.000000</td>\n",
       "      <td>77911.000000</td>\n",
       "      <td>4.000000</td>\n",
       "      <td>85.000000</td>\n",
       "      <td>64.000000</td>\n",
       "      <td>123416.990000</td>\n",
       "    </tr>\n",
       "  </tbody>\n",
       "</table>\n",
       "</div>"
      ],
      "text/plain": [
       "           College         City         Role  Previous CTC  \\\n",
       "count  1589.000000  1589.000000  1589.000000   1589.000000   \n",
       "mean      1.975456     0.514160     0.206419  55518.453744   \n",
       "std       0.838330     0.499957     0.404862   6655.218445   \n",
       "min       1.000000     0.000000     0.000000  36990.000000   \n",
       "25%       1.000000     0.000000     0.000000  50518.000000   \n",
       "50%       2.000000     1.000000     0.000000  55291.000000   \n",
       "75%       3.000000     1.000000     0.000000  60109.000000   \n",
       "max       3.000000     1.000000     1.000000  77911.000000   \n",
       "\n",
       "       Previous job change  Graduation Marks  EXP (Month)            CTC  \n",
       "count          1589.000000       1589.000000  1589.000000    1589.000000  \n",
       "mean              2.528634         59.855255    39.044682   75353.278798  \n",
       "std               1.123918         14.935139    14.108875   12587.288237  \n",
       "min               1.000000         35.000000    18.000000   53020.320000  \n",
       "25%               2.000000         46.000000    26.000000   66902.350000  \n",
       "50%               3.000000         60.000000    39.000000   73028.670000  \n",
       "75%               4.000000         73.000000    51.000000   80588.670000  \n",
       "max               4.000000         85.000000    64.000000  123416.990000  "
      ]
     },
     "execution_count": 22,
     "metadata": {},
     "output_type": "execute_result"
    }
   ],
   "source": [
    "df.describe()\n"
   ]
  },
  {
   "cell_type": "code",
   "execution_count": 23,
   "id": "009eba46-0907-4932-bba6-b57d2d511889",
   "metadata": {},
   "outputs": [
    {
     "data": {
      "text/plain": [
       "College                0\n",
       "City                   0\n",
       "Role                   0\n",
       "Previous CTC           0\n",
       "Previous job change    0\n",
       "Graduation Marks       0\n",
       "EXP (Month)            0\n",
       "CTC                    0\n",
       "dtype: int64"
      ]
     },
     "execution_count": 23,
     "metadata": {},
     "output_type": "execute_result"
    }
   ],
   "source": [
    "# capturing null values\n",
    "df.isnull().sum()"
   ]
  },
  {
   "cell_type": "code",
   "execution_count": 24,
   "id": "ba45e74d-883f-4526-8a6d-a18298a4e56b",
   "metadata": {},
   "outputs": [
    {
     "data": {
      "text/plain": [
       "<Axes: >"
      ]
     },
     "execution_count": 24,
     "metadata": {},
     "output_type": "execute_result"
    },
    {
     "data": {
      "image/png": "[encoded data removed]",
      "text/plain": [
       "<Figure size 640x480 with 1 Axes>"
      ]
     },
     "metadata": {},
     "output_type": "display_data"
    }
   ],
   "source": [
    "sns.boxplot(df[\"Previous CTC\"])"
   ]
  },
  {
   "cell_type": "code",
   "execution_count": null,
   "id": "80e7e6eb-9098-4613-913a-f7c046ab9c94",
   "metadata": {},
   "outputs": [],
   "source": [
    "#outliers are formed"
   ]
  },
  {
   "cell_type": "code",
   "execution_count": null,
   "id": "7e33c11d-2d50-4f60-b071-84a3eded7341",
   "metadata": {},
   "outputs": [],
   "source": [
    "#to remove an outlier we can use capping and flooring method"
   ]
  },
  {
   "cell_type": "code",
   "execution_count": 25,
   "id": "26168340-a5b4-4ce6-8f4f-85dc46125204",
   "metadata": {},
   "outputs": [],
   "source": [
    "q1 = df['Previous CTC'].quantile(0.25)\n",
    "q3 = df['Previous CTC'].quantile(0.75)\n",
    "IQR = q3 - q1"
   ]
  },
  {
   "cell_type": "code",
   "execution_count": 26,
   "id": "ca4b3843-408a-4417-b67a-85909b4c9842",
   "metadata": {},
   "outputs": [],
   "source": [
    "upper_limit = q3 + (1.5 * IQR)\n",
    "lower_limit = q1 - (1.5 * IQR)"
   ]
  },
  {
   "cell_type": "code",
   "execution_count": 27,
   "id": "26f49591-c4d0-48bf-8d6e-38da8bc28cd8",
   "metadata": {},
   "outputs": [
    {
     "data": {
      "text/html": [
       "<div>\n",
       "<style scoped>\n",
       "    .dataframe tbody tr th:only-of-type {\n",
       "        vertical-align: middle;\n",
       "    }\n",
       "\n",
       "    .dataframe tbody tr th {\n",
       "        vertical-align: top;\n",
       "    }\n",
       "\n",
       "    .dataframe thead th {\n",
       "        text-align: right;\n",
       "    }\n",
       "</style>\n",
       "<table border=\"1\" class=\"dataframe\">\n",
       "  <thead>\n",
       "    <tr style=\"text-align: right;\">\n",
       "      <th></th>\n",
       "      <th>College</th>\n",
       "      <th>City</th>\n",
       "      <th>Role</th>\n",
       "      <th>Previous CTC</th>\n",
       "      <th>Previous job change</th>\n",
       "      <th>Graduation Marks</th>\n",
       "      <th>EXP (Month)</th>\n",
       "      <th>CTC</th>\n",
       "    </tr>\n",
       "  </thead>\n",
       "  <tbody>\n",
       "  </tbody>\n",
       "</table>\n",
       "</div>"
      ],
      "text/plain": [
       "Empty DataFrame\n",
       "Columns: [College, City, Role, Previous CTC, Previous job change, Graduation Marks, EXP (Month), CTC]\n",
       "Index: []"
      ]
     },
     "execution_count": 27,
     "metadata": {},
     "output_type": "execute_result"
    }
   ],
   "source": [
    "df.loc[df['Previous CTC'] > upper_limit]\n",
    "df.loc[df['Previous CTC'] < lower_limit]"
   ]
  },
  {
   "cell_type": "code",
   "execution_count": 30,
   "id": "6509899f-5116-4e4d-b293-3d8e660656b2",
   "metadata": {},
   "outputs": [],
   "source": [
    "data = df.copy()"
   ]
  },
  {
   "cell_type": "code",
   "execution_count": 34,
   "id": "21feb377-497f-45af-a891-a45ad3b550f5",
   "metadata": {},
   "outputs": [],
   "source": [
    "data.loc[data['Previous CTC']> upper_limit ,'Previous CTC']  = upper_limit\n",
    "\n",
    "data.loc[data['Previous CTC']< lower_limit ,'Previous CTC']  = lower_limit\n"
   ]
  },
  {
   "cell_type": "code",
   "execution_count": 35,
   "id": "10a06d5f-8818-426b-b72c-79228ba3c457",
   "metadata": {},
   "outputs": [
    {
     "data": {
      "text/plain": [
       "<Axes: >"
      ]
     },
     "execution_count": 35,
     "metadata": {},
     "output_type": "execute_result"
    },
    {
     "data": {
      "image/png": "[encoded data removed]",
      "text/plain": [
       "<Figure size 640x480 with 1 Axes>"
      ]
     },
     "metadata": {},
     "output_type": "display_data"
    }
   ],
   "source": [
    "sns.boxplot(data[\"Previous CTC\"]) #after removing an outliers"
   ]
  },
  {
   "cell_type": "code",
   "execution_count": 36,
   "id": "6cc8c249-4b51-4e3d-8f00-530354120864",
   "metadata": {},
   "outputs": [
    {
     "data": {
      "text/plain": [
       "<Axes: >"
      ]
     },
     "execution_count": 36,
     "metadata": {},
     "output_type": "execute_result"
    },
    {
     "data": {
      "image/png": "[encoded data removed]",
      "text/plain": [
       "<Figure size 640x480 with 1 Axes>"
      ]
     },
     "metadata": {},
     "output_type": "display_data"
    }
   ],
   "source": [
    "sns.boxplot(df[\"CTC\"])"
   ]
  },
  {
   "cell_type": "code",
   "execution_count": 39,
   "id": "792e2c61-f253-42e4-a16c-e52b6f5e841b",
   "metadata": {},
   "outputs": [],
   "source": [
    "q1 = df['CTC'].quantile(0.25)\n",
    "q3 = df['CTC'].quantile(0.75)\n",
    "IQR = q3 - q1"
   ]
  },
  {
   "cell_type": "code",
   "execution_count": 40,
   "id": "73237a85-199b-483d-973d-ab5706b6a3da",
   "metadata": {},
   "outputs": [],
   "source": [
    "upper_limit = q3 + (1.5 * IQR)\n",
    "lower_limit = q1 - (1.5 * IQR)"
   ]
  },
  {
   "cell_type": "code",
   "execution_count": 41,
   "id": "91681ef6-036a-46bc-a809-56f550e5918d",
   "metadata": {},
   "outputs": [
    {
     "data": {
      "text/html": [
       "<div>\n",
       "<style scoped>\n",
       "    .dataframe tbody tr th:only-of-type {\n",
       "        vertical-align: middle;\n",
       "    }\n",
       "\n",
       "    .dataframe tbody tr th {\n",
       "        vertical-align: top;\n",
       "    }\n",
       "\n",
       "    .dataframe thead th {\n",
       "        text-align: right;\n",
       "    }\n",
       "</style>\n",
       "<table border=\"1\" class=\"dataframe\">\n",
       "  <thead>\n",
       "    <tr style=\"text-align: right;\">\n",
       "      <th></th>\n",
       "      <th>College</th>\n",
       "      <th>City</th>\n",
       "      <th>Role</th>\n",
       "      <th>Previous CTC</th>\n",
       "      <th>Previous job change</th>\n",
       "      <th>Graduation Marks</th>\n",
       "      <th>EXP (Month)</th>\n",
       "      <th>CTC</th>\n",
       "    </tr>\n",
       "  </thead>\n",
       "  <tbody>\n",
       "  </tbody>\n",
       "</table>\n",
       "</div>"
      ],
      "text/plain": [
       "Empty DataFrame\n",
       "Columns: [College, City, Role, Previous CTC, Previous job change, Graduation Marks, EXP (Month), CTC]\n",
       "Index: []"
      ]
     },
     "execution_count": 41,
     "metadata": {},
     "output_type": "execute_result"
    }
   ],
   "source": [
    "df.loc[df['CTC'] > upper_limit]\n",
    "df.loc[df['CTC'] < lower_limit]"
   ]
  },
  {
   "cell_type": "code",
   "execution_count": 42,
   "id": "47548eda-383b-4931-b318-3d19fb10ac72",
   "metadata": {},
   "outputs": [],
   "source": [
    "data.loc[data['CTC']> upper_limit ,'CTC']  = upper_limit\n",
    "\n",
    "data.loc[data['CTC']< lower_limit ,'CTC']  = lower_limit\n"
   ]
  },
  {
   "cell_type": "code",
   "execution_count": 43,
   "id": "ef3c89a4-90fc-4d20-9d33-303d1d31cf81",
   "metadata": {},
   "outputs": [
    {
     "data": {
      "text/plain": [
       "<Axes: >"
      ]
     },
     "execution_count": 43,
     "metadata": {},
     "output_type": "execute_result"
    },
    {
     "data": {
      "image/png": "[encoded data removed]",
      "text/plain": [
       "<Figure size 640x480 with 1 Axes>"
      ]
     },
     "metadata": {},
     "output_type": "display_data"
    }
   ],
   "source": [
    "sns.boxplot(data[\"CTC\"]) #after removing an outliers"
   ]
  },
  {
   "cell_type": "code",
   "execution_count": 44,
   "id": "d97a3c6c-9000-4e7f-bb05-efcfc6a5d189",
   "metadata": {},
   "outputs": [
    {
     "data": {
      "text/plain": [
       "<Axes: >"
      ]
     },
     "execution_count": 44,
     "metadata": {},
     "output_type": "execute_result"
    },
    {
     "data": {
      "image/png": "[encoded data removed]",
      "text/plain": [
       "<Figure size 640x480 with 1 Axes>"
      ]
     },
     "metadata": {},
     "output_type": "display_data"
    }
   ],
   "source": [
    "sns.boxplot(df[\"College\"])"
   ]
  },
  {
   "cell_type": "code",
   "execution_count": null,
   "id": "51d7b751-f0d5-4c70-91e3-d7b8a0b7d83e",
   "metadata": {},
   "outputs": [],
   "source": [
    "sns.boxplot(df[\"College\"])"
   ]
  },
  {
   "cell_type": "code",
   "execution_count": 45,
   "id": "1980a6b1-029c-4c15-8e18-5fc1cf5ec7df",
   "metadata": {},
   "outputs": [
    {
     "data": {
      "text/plain": [
       "<Axes: >"
      ]
     },
     "execution_count": 45,
     "metadata": {},
     "output_type": "execute_result"
    },
    {
     "data": {
      "image/png": "[encoded data removed]",
      "text/plain": [
       "<Figure size 640x480 with 1 Axes>"
      ]
     },
     "metadata": {},
     "output_type": "display_data"
    }
   ],
   "source": [
    "sns.boxplot(df[\"Previous job change\"])"
   ]
  },
  {
   "cell_type": "code",
   "execution_count": null,
   "id": "849a5c3f-c85c-4845-a6a4-eff26e7d2d1d",
   "metadata": {},
   "outputs": [],
   "source": [
    "#lets train the dataset"
   ]
  },
  {
   "cell_type": "code",
   "execution_count": 47,
   "id": "0d521e01-ff37-4b71-bb9f-fc5c851bc8c5",
   "metadata": {},
   "outputs": [],
   "source": [
    "x = data.drop(\"CTC\",axis ='columns')\n",
    "y = data['CTC']"
   ]
  },
  {
   "cell_type": "code",
   "execution_count": 48,
   "id": "b023e5df-4c67-4216-a112-b61e280187b9",
   "metadata": {},
   "outputs": [],
   "source": [
    "from sklearn.model_selection import train_test_split"
   ]
  },
  {
   "cell_type": "code",
   "execution_count": 49,
   "id": "ce601957-b206-408c-91a3-cbbf059414d2",
   "metadata": {},
   "outputs": [
    {
     "data": {
      "text/plain": [
       "[      College  City  Role  Previous CTC  Previous job change  \\\n",
       " 206         3     1     0       46791.0                    3   \n",
       " 105         1     1     1       56710.0                    2   \n",
       " 536         3     1     0       64976.0                    2   \n",
       " 950         1     0     0       42804.0                    2   \n",
       " 871         1     1     0       54051.0                    2   \n",
       " ...       ...   ...   ...           ...                  ...   \n",
       " 1157        2     0     0       45171.0                    3   \n",
       " 631         1     0     0       51339.0                    3   \n",
       " 542         2     0     0       58479.0                    1   \n",
       " 443         2     1     0       64691.0                    2   \n",
       " 1570        1     1     0       45676.0                    4   \n",
       " \n",
       "       Graduation Marks  EXP (Month)  \n",
       " 206                 59           59  \n",
       " 105                 47           20  \n",
       " 536                 68           33  \n",
       " 950                 37           57  \n",
       " 871                 40           26  \n",
       " ...                ...          ...  \n",
       " 1157                52           23  \n",
       " 631                 75           24  \n",
       " 542                 62           63  \n",
       " 443                 44           59  \n",
       " 1570                81           19  \n",
       " \n",
       " [1112 rows x 7 columns],\n",
       "       College  City  Role  Previous CTC  Previous job change  \\\n",
       " 223         3     0     1       57963.0                    2   \n",
       " 280         1     0     1       52883.0                    1   \n",
       " 1208        1     1     1       48402.0                    4   \n",
       " 86          3     0     1       55505.0                    2   \n",
       " 574         3     0     0       64225.0                    4   \n",
       " ...       ...   ...   ...           ...                  ...   \n",
       " 625         1     0     0       53160.0                    1   \n",
       " 1033        1     1     1       45634.0                    3   \n",
       " 1080        2     0     0       49891.0                    4   \n",
       " 411         1     1     1       46677.0                    1   \n",
       " 930         1     0     0       69083.0                    2   \n",
       " \n",
       "       Graduation Marks  EXP (Month)  \n",
       " 223                 60           19  \n",
       " 280                 55           40  \n",
       " 1208                47           37  \n",
       " 86                  40           57  \n",
       " 574                 43           57  \n",
       " ...                ...          ...  \n",
       " 625                 46           29  \n",
       " 1033                71           18  \n",
       " 1080                75           18  \n",
       " 411                 39           44  \n",
       " 930                 83           26  \n",
       " \n",
       " [477 rows x 7 columns],\n",
       " 206     78379.79\n",
       " 105     67879.02\n",
       " 536     79118.64\n",
       " 950     74893.91\n",
       " 871     65478.95\n",
       "           ...   \n",
       " 1157    67097.18\n",
       " 631     72905.05\n",
       " 542     74974.14\n",
       " 443     80588.67\n",
       " 1570    58845.40\n",
       " Name: CTC, Length: 1112, dtype: float64,\n",
       " 223      96125.18\n",
       " 280      78949.12\n",
       " 1208     81043.15\n",
       " 86      100887.85\n",
       " 574      80470.64\n",
       "           ...    \n",
       " 625      62498.78\n",
       " 1033     77400.43\n",
       " 1080     66862.46\n",
       " 411      77774.74\n",
       " 930      76813.50\n",
       " Name: CTC, Length: 477, dtype: float64]"
      ]
     },
     "execution_count": 49,
     "metadata": {},
     "output_type": "execute_result"
    }
   ],
   "source": [
    "train_test_split(x,y,test_size = 0.3)"
   ]
  },
  {
   "cell_type": "code",
   "execution_count": 50,
   "id": "b4ff6a5c-ad2b-46da-84d5-ac8d409f8222",
   "metadata": {},
   "outputs": [],
   "source": [
    "x_train,x_test,y_train,y_test = train_test_split(x,y,test_size = 0.2,random_state = 51)"
   ]
  },
  {
   "cell_type": "code",
   "execution_count": 51,
   "id": "1f088289-6285-49bc-ae46-6a43efa2c3b1",
   "metadata": {},
   "outputs": [
    {
     "name": "stdout",
     "output_type": "stream",
     "text": [
      "(1271, 7)\n"
     ]
    }
   ],
   "source": [
    "print(x_train.shape)"
   ]
  },
  {
   "cell_type": "code",
   "execution_count": null,
   "id": "cad2da46-776e-40de-971d-5119ea94edd4",
   "metadata": {},
   "outputs": [],
   "source": [
    "# going to build a model"
   ]
  },
  {
   "cell_type": "code",
   "execution_count": 53,
   "id": "3916090a-9efe-4942-ae39-beadcc541190",
   "metadata": {},
   "outputs": [],
   "source": [
    "from sklearn.linear_model import LinearRegression"
   ]
  },
  {
   "cell_type": "code",
   "execution_count": 58,
   "id": "14746284-4fc8-4413-b121-de4dbe0aa507",
   "metadata": {},
   "outputs": [],
   "source": [
    "ml_model = LinearRegression()"
   ]
  },
  {
   "cell_type": "code",
   "execution_count": null,
   "id": "4dc93ff8-bd77-4ca1-8a5c-e79b2727f04a",
   "metadata": {},
   "outputs": [],
   "source": [
    "# fitting a linearRegression model"
   ]
  },
  {
   "cell_type": "code",
   "execution_count": 59,
   "id": "a0e1718e-832e-429b-9ddf-7c2124d7ea4d",
   "metadata": {},
   "outputs": [
    {
     "data": {
      "text/html": [
       "<style>#sk-container-id-2 {color: black;background-color: white;}#sk-container-id-2 pre{padding: 0;}#sk-container-id-2 div.sk-toggleable {background-color: white;}#sk-container-id-2 label.sk-toggleable__label {cursor: pointer;display: block;width: 100%;margin-bottom: 0;padding: 0.3em;box-sizing: border-box;text-align: center;}#sk-container-id-2 label.sk-toggleable__label-arrow:before {content: \"▸\";float: left;margin-right: 0.25em;color: #696969;}#sk-container-id-2 label.sk-toggleable__label-arrow:hover:before {color: black;}#sk-container-id-2 div.sk-estimator:hover label.sk-toggleable__label-arrow:before {color: black;}#sk-container-id-2 div.sk-toggleable__content {max-height: 0;max-width: 0;overflow: hidden;text-align: left;background-color: #f0f8ff;}#sk-container-id-2 div.sk-toggleable__content pre {margin: 0.2em;color: black;border-radius: 0.25em;background-color: #f0f8ff;}#sk-container-id-2 input.sk-toggleable__control:checked~div.sk-toggleable__content {max-height: 200px;max-width: 100%;overflow: auto;}#sk-container-id-2 input.sk-toggleable__control:checked~label.sk-toggleable__label-arrow:before {content: \"▾\";}#sk-container-id-2 div.sk-estimator input.sk-toggleable__control:checked~label.sk-toggleable__label {background-color: #d4ebff;}#sk-container-id-2 div.sk-label input.sk-toggleable__control:checked~label.sk-toggleable__label {background-color: #d4ebff;}#sk-container-id-2 input.sk-hidden--visually {border: 0;clip: rect(1px 1px 1px 1px);clip: rect(1px, 1px, 1px, 1px);height: 1px;margin: -1px;overflow: hidden;padding: 0;position: absolute;width: 1px;}#sk-container-id-2 div.sk-estimator {font-family: monospace;background-color: #f0f8ff;border: 1px dotted black;border-radius: 0.25em;box-sizing: border-box;margin-bottom: 0.5em;}#sk-container-id-2 div.sk-estimator:hover {background-color: #d4ebff;}#sk-container-id-2 div.sk-parallel-item::after {content: \"\";width: 100%;border-bottom: 1px solid gray;flex-grow: 1;}#sk-container-id-2 div.sk-label:hover label.sk-toggleable__label {background-color: #d4ebff;}#sk-container-id-2 div.sk-serial::before {content: \"\";position: absolute;border-left: 1px solid gray;box-sizing: border-box;top: 0;bottom: 0;left: 50%;z-index: 0;}#sk-container-id-2 div.sk-serial {display: flex;flex-direction: column;align-items: center;background-color: white;padding-right: 0.2em;padding-left: 0.2em;position: relative;}#sk-container-id-2 div.sk-item {position: relative;z-index: 1;}#sk-container-id-2 div.sk-parallel {display: flex;align-items: stretch;justify-content: center;background-color: white;position: relative;}#sk-container-id-2 div.sk-item::before, #sk-container-id-2 div.sk-parallel-item::before {content: \"\";position: absolute;border-left: 1px solid gray;box-sizing: border-box;top: 0;bottom: 0;left: 50%;z-index: -1;}#sk-container-id-2 div.sk-parallel-item {display: flex;flex-direction: column;z-index: 1;position: relative;background-color: white;}#sk-container-id-2 div.sk-parallel-item:first-child::after {align-self: flex-end;width: 50%;}#sk-container-id-2 div.sk-parallel-item:last-child::after {align-self: flex-start;width: 50%;}#sk-container-id-2 div.sk-parallel-item:only-child::after {width: 0;}#sk-container-id-2 div.sk-dashed-wrapped {border: 1px dashed gray;margin: 0 0.4em 0.5em 0.4em;box-sizing: border-box;padding-bottom: 0.4em;background-color: white;}#sk-container-id-2 div.sk-label label {font-family: monospace;font-weight: bold;display: inline-block;line-height: 1.2em;}#sk-container-id-2 div.sk-label-container {text-align: center;}#sk-container-id-2 div.sk-container {/* jupyter's `normalize.less` sets `[hidden] { display: none; }` but bootstrap.min.css set `[hidden] { display: none !important; }` so we also need the `!important` here to be able to override the default hidden behavior on the sphinx rendered scikit-learn.org. See: https://github.com/scikit-learn/scikit-learn/issues/21755 */display: inline-block !important;position: relative;}#sk-container-id-2 div.sk-text-repr-fallback {display: none;}</style><div id=\"sk-container-id-2\" class=\"sk-top-container\"><div class=\"sk-text-repr-fallback\"><pre>LinearRegression()</pre><b>In a Jupyter environment, please rerun this cell to show the HTML representation or trust the notebook. <br />On GitHub, the HTML representation is unable to render, please try loading this page with nbviewer.org.</b></div><div class=\"sk-container\" hidden><div class=\"sk-item\"><div class=\"sk-estimator sk-toggleable\"><input class=\"sk-toggleable__control sk-hidden--visually\" id=\"sk-estimator-id-2\" type=\"checkbox\" checked><label for=\"sk-estimator-id-2\" class=\"sk-toggleable__label sk-toggleable__label-arrow\">LinearRegression</label><div class=\"sk-toggleable__content\"><pre>LinearRegression()</pre></div></div></div></div></div>"
      ],
      "text/plain": [
       "LinearRegression()"
      ]
     },
     "execution_count": 59,
     "metadata": {},
     "output_type": "execute_result"
    }
   ],
   "source": [
    "ml_model.fit(x_train,y_train)"
   ]
  },
  {
   "cell_type": "code",
   "execution_count": 60,
   "id": "82a8fe8a-6a3f-4a2a-ac76-fe7f2c437dfe",
   "metadata": {},
   "outputs": [
    {
     "name": "stdout",
     "output_type": "stream",
     "text": [
      "[-6.57268359e+02  4.80527552e+02  1.73895722e+04  3.25062550e-01\n",
      " -1.14968125e+00  7.42974595e+00  2.42456319e+02]\n"
     ]
    }
   ],
   "source": [
    "print(ml_model.coef_) #to checking the coefficient value"
   ]
  },
  {
   "cell_type": "code",
   "execution_count": 61,
   "id": "7438c180-823d-4e20-8126-a7f036679190",
   "metadata": {},
   "outputs": [
    {
     "data": {
      "text/plain": [
       "array([83567.92342814, 66578.37714218, 69168.42471401, ...,\n",
       "       63823.00398852, 68141.12021544, 80241.91369261])"
      ]
     },
     "execution_count": 61,
     "metadata": {},
     "output_type": "execute_result"
    }
   ],
   "source": [
    "ml_model.predict(x) #predicting vallues of y base on x"
   ]
  },
  {
   "cell_type": "code",
   "execution_count": 62,
   "id": "926a5629-bf53-4fb8-97bb-bd0cee916d78",
   "metadata": {},
   "outputs": [
    {
     "data": {
      "text/plain": [
       "0.5488081019449771"
      ]
     },
     "execution_count": 62,
     "metadata": {},
     "output_type": "execute_result"
    }
   ],
   "source": [
    "# calculating accurecy\n",
    "\n",
    "ml_model.score(x_test,y_test)"
   ]
  },
  {
   "cell_type": "code",
   "execution_count": 63,
   "id": "07280407-a269-4c27-b06b-f16864dde895",
   "metadata": {},
   "outputs": [],
   "source": [
    "from sklearn.ensemble import RandomForestRegressor"
   ]
  },
  {
   "cell_type": "code",
   "execution_count": 64,
   "id": "d7fc6dc1-6c80-4f48-b2b5-944869aff7d8",
   "metadata": {},
   "outputs": [],
   "source": [
    "regressor = RandomForestRegressor(n_estimators = 300)"
   ]
  },
  {
   "cell_type": "code",
   "execution_count": null,
   "id": "0017d6ce-05c2-4086-8919-2cd06c4acc38",
   "metadata": {},
   "outputs": [],
   "source": []
  },
  {
   "cell_type": "code",
   "execution_count": 65,
   "id": "7c2530d0-eaa5-43a1-927e-4eb91b97f1af",
   "metadata": {},
   "outputs": [
    {
     "data": {
      "text/html": [
       "<style>#sk-container-id-3 {color: black;background-color: white;}#sk-container-id-3 pre{padding: 0;}#sk-container-id-3 div.sk-toggleable {background-color: white;}#sk-container-id-3 label.sk-toggleable__label {cursor: pointer;display: block;width: 100%;margin-bottom: 0;padding: 0.3em;box-sizing: border-box;text-align: center;}#sk-container-id-3 label.sk-toggleable__label-arrow:before {content: \"▸\";float: left;margin-right: 0.25em;color: #696969;}#sk-container-id-3 label.sk-toggleable__label-arrow:hover:before {color: black;}#sk-container-id-3 div.sk-estimator:hover label.sk-toggleable__label-arrow:before {color: black;}#sk-container-id-3 div.sk-toggleable__content {max-height: 0;max-width: 0;overflow: hidden;text-align: left;background-color: #f0f8ff;}#sk-container-id-3 div.sk-toggleable__content pre {margin: 0.2em;color: black;border-radius: 0.25em;background-color: #f0f8ff;}#sk-container-id-3 input.sk-toggleable__control:checked~div.sk-toggleable__content {max-height: 200px;max-width: 100%;overflow: auto;}#sk-container-id-3 input.sk-toggleable__control:checked~label.sk-toggleable__label-arrow:before {content: \"▾\";}#sk-container-id-3 div.sk-estimator input.sk-toggleable__control:checked~label.sk-toggleable__label {background-color: #d4ebff;}#sk-container-id-3 div.sk-label input.sk-toggleable__control:checked~label.sk-toggleable__label {background-color: #d4ebff;}#sk-container-id-3 input.sk-hidden--visually {border: 0;clip: rect(1px 1px 1px 1px);clip: rect(1px, 1px, 1px, 1px);height: 1px;margin: -1px;overflow: hidden;padding: 0;position: absolute;width: 1px;}#sk-container-id-3 div.sk-estimator {font-family: monospace;background-color: #f0f8ff;border: 1px dotted black;border-radius: 0.25em;box-sizing: border-box;margin-bottom: 0.5em;}#sk-container-id-3 div.sk-estimator:hover {background-color: #d4ebff;}#sk-container-id-3 div.sk-parallel-item::after {content: \"\";width: 100%;border-bottom: 1px solid gray;flex-grow: 1;}#sk-container-id-3 div.sk-label:hover label.sk-toggleable__label {background-color: #d4ebff;}#sk-container-id-3 div.sk-serial::before {content: \"\";position: absolute;border-left: 1px solid gray;box-sizing: border-box;top: 0;bottom: 0;left: 50%;z-index: 0;}#sk-container-id-3 div.sk-serial {display: flex;flex-direction: column;align-items: center;background-color: white;padding-right: 0.2em;padding-left: 0.2em;position: relative;}#sk-container-id-3 div.sk-item {position: relative;z-index: 1;}#sk-container-id-3 div.sk-parallel {display: flex;align-items: stretch;justify-content: center;background-color: white;position: relative;}#sk-container-id-3 div.sk-item::before, #sk-container-id-3 div.sk-parallel-item::before {content: \"\";position: absolute;border-left: 1px solid gray;box-sizing: border-box;top: 0;bottom: 0;left: 50%;z-index: -1;}#sk-container-id-3 div.sk-parallel-item {display: flex;flex-direction: column;z-index: 1;position: relative;background-color: white;}#sk-container-id-3 div.sk-parallel-item:first-child::after {align-self: flex-end;width: 50%;}#sk-container-id-3 div.sk-parallel-item:last-child::after {align-self: flex-start;width: 50%;}#sk-container-id-3 div.sk-parallel-item:only-child::after {width: 0;}#sk-container-id-3 div.sk-dashed-wrapped {border: 1px dashed gray;margin: 0 0.4em 0.5em 0.4em;box-sizing: border-box;padding-bottom: 0.4em;background-color: white;}#sk-container-id-3 div.sk-label label {font-family: monospace;font-weight: bold;display: inline-block;line-height: 1.2em;}#sk-container-id-3 div.sk-label-container {text-align: center;}#sk-container-id-3 div.sk-container {/* jupyter's `normalize.less` sets `[hidden] { display: none; }` but bootstrap.min.css set `[hidden] { display: none !important; }` so we also need the `!important` here to be able to override the default hidden behavior on the sphinx rendered scikit-learn.org. See: https://github.com/scikit-learn/scikit-learn/issues/21755 */display: inline-block !important;position: relative;}#sk-container-id-3 div.sk-text-repr-fallback {display: none;}</style><div id=\"sk-container-id-3\" class=\"sk-top-container\"><div class=\"sk-text-repr-fallback\"><pre>RandomForestRegressor(n_estimators=300)</pre><b>In a Jupyter environment, please rerun this cell to show the HTML representation or trust the notebook. <br />On GitHub, the HTML representation is unable to render, please try loading this page with nbviewer.org.</b></div><div class=\"sk-container\" hidden><div class=\"sk-item\"><div class=\"sk-estimator sk-toggleable\"><input class=\"sk-toggleable__control sk-hidden--visually\" id=\"sk-estimator-id-3\" type=\"checkbox\" checked><label for=\"sk-estimator-id-3\" class=\"sk-toggleable__label sk-toggleable__label-arrow\">RandomForestRegressor</label><div class=\"sk-toggleable__content\"><pre>RandomForestRegressor(n_estimators=300)</pre></div></div></div></div></div>"
      ],
      "text/plain": [
       "RandomForestRegressor(n_estimators=300)"
      ]
     },
     "execution_count": 65,
     "metadata": {},
     "output_type": "execute_result"
    }
   ],
   "source": [
    "regressor.fit(x_train,y_train)"
   ]
  },
  {
   "cell_type": "code",
   "execution_count": 66,
   "id": "ce4d8ee0-81eb-47ce-8006-36f068de55a6",
   "metadata": {},
   "outputs": [
    {
     "data": {
      "text/plain": [
       "0.6540835550393795"
      ]
     },
     "execution_count": 66,
     "metadata": {},
     "output_type": "execute_result"
    }
   ],
   "source": [
    "regressor.score(x_test,y_test) #checking accurecy_score"
   ]
  },
  {
   "cell_type": "code",
   "execution_count": null,
   "id": "80ba6fea-f592-4123-ba7c-cb34b711b9ba",
   "metadata": {},
   "outputs": [],
   "source": [
    "#Question and answer"
   ]
  },
  {
   "cell_type": "markdown",
   "id": "bfddc233-fcca-4236-9fb6-850da54be833",
   "metadata": {},
   "source": [
    "1.view  \n",
    "Data Preparation: Convert College Field into Numerical Data Convert City Field into Numerical Data Create Dummy Variables for Role: Convert categorical variable \"Role\" into dummy variables.\n",
    "\n",
    "Data Cleaning: Handle Missing Values: Impute missing values in the dataset, either by filling them with the mean, median, mode, or using more sophisticated techniques like KNN imputation. Identify and Handle Outliers: Detect outliers using statistical methods IQR, or visualization techniques like box plots. transform outliers appropriately.\n",
    "\n",
    "Model Building: Choose Regression Model: Select regression models like Linear Regression,Random Forest Train-Test Split: Split the dataset into training and testing sets. Model Training: Train the selected models on the training set.\n",
    "\n",
    "Compare Performance: Compare the performance of different models based on evaluation metrics. Select Best Model: Choose the model with the best performance."
   ]
  },
  {
   "cell_type": "markdown",
   "id": "29245d2b-b6da-4df4-8d72-da91b80e78a1",
   "metadata": {},
   "source": [
    "What will be your approach to solving this task? Data Exploration: Explore the dataset to understand its structure, features, and distribution.\n",
    "\n",
    "Data Cleaning and Preprocessing: Handle missing values: Impute missing values or remove rows with missing data. Identify and handle outliers: Use statistical methods or visualization techniques to detect and handle outliers appropriately. Convert categorical variables into numerical format: Encode categorical variables like college, city, and role into numerical format. Create dummy variables for categorical variables: Convert categorical variables like role into dummy variables to incorporate them into th edel.\n",
    "Feature Engineering: Create new features if necessary: Generate new features that may be predictive of salary, such as years of experience squared or interaction terms between\n",
    "tures. 4. Model Selection and Training: Choose regression models: Experiment with different regression models such as Linear Regression, Random Forest Regression, Gradient Boosting Regression, etc. Split the dataset into training and testing sets. Train the selected models on the training set."
   ]
  },
  {
   "cell_type": "markdown",
   "id": "e1cfb2c2-a091-419a-9dde-2f3612d25e2e",
   "metadata": {},
   "source": [
    " What were the available ML model options you had to perform this task? To solve this task, we have several options for regression models that can be applied to predict salary.\n",
    "\n",
    "linear Regression  Ridge Regression Random Forest Regression"
   ]
  },
  {
   "cell_type": "markdown",
   "id": "0a7ae27b-952c-4976-a3c5-a4123bbc181a",
   "metadata": {},
   "source": [
    " Which model’s performance is best and what could be the possible reason for that? linear Regression random forest I would start with a Linear Regression model as it's simple, interpretable, and serves as a good baseline. Linear Regression assumes a linear relationship between the features and the target variable, which can be a reasonable assumption in many cases."
   ]
  },
  {
   "cell_type": "markdown",
   "id": "db3c853e-84e9-4a5b-98bb-71c0559a0792",
   "metadata": {},
   "source": [
    "What steps can you take to improve this selected model’s performance even further? to improve the performance of linear refression mpdel i used lasso and RIdge regression also applied the random forest algorithm to enhance the performance of model with n_estimators = 200\n",
    "\n",
    "Further Improvements: Conduct more in-depth feature engineering to create additional relevant features. Experiment with ensemble methods like model stacking to combine multiple models for improved accuracy. Gather more data or refine existing data to improve the quality of the predictions. Continuously monitor and update the model to adapt to changing data patterns and business requirements.\n",
    "\n"
   ]
  }
 ],
 "metadata": {
  "kernelspec": {
   "display_name": "Python 3 (ipykernel)",
   "language": "python",
   "name": "python3"
  },
  "language_info": {
   "codemirror_mode": {
    "name": "ipython",
    "version": 3
   },
   "file_extension": ".py",
   "mimetype": "text/x-python",
   "name": "python",
   "nbconvert_exporter": "python",
   "pygments_lexer": "ipython3",
   "version": "3.11.7"
  }
 },
 "nbformat": 4,
 "nbformat_minor": 5
}
